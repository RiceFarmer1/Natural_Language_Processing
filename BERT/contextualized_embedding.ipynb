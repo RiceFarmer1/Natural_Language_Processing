{
 "cells": [
  {
   "cell_type": "code",
   "execution_count": 69,
   "metadata": {},
   "outputs": [
    {
     "name": "stderr",
     "output_type": "stream",
     "text": [
      "2022-09-19 14:52:15.486708: I tensorflow/core/platform/cpu_feature_guard.cc:193] This TensorFlow binary is optimized with oneAPI Deep Neural Network Library (oneDNN) to use the following CPU instructions in performance-critical operations:  AVX2 FMA\n",
      "To enable them in other operations, rebuild TensorFlow with the appropriate compiler flags.\n"
     ]
    }
   ],
   "source": [
    "import torch\n",
    "from transformers import BertTokenizer, BertModel\n",
    "import numpy as np\n",
    "\n",
    "# Load pre-trained model tokenizer (vocabulary)\n",
    "tokenizer = BertTokenizer.from_pretrained('bert-base-uncased')"
   ]
  },
  {
   "cell_type": "code",
   "execution_count": 83,
   "metadata": {},
   "outputs": [],
   "source": [
    "sentences_list = []\n",
    "\n",
    "file1 = open('house_mouse.txt', 'r')\n",
    "sentences1 = file1.readlines()\n",
    "  \n",
    "for sentence in sentences1:\n",
    "    sentences_list.append(sentence.strip())\n",
    "\n",
    "file1 = open('computer_mouse.txt', 'r')\n",
    "sentences2 = file1.readlines()\n",
    "\n",
    "for sentence in sentences2:\n",
    "    sentences_list.append(sentence.strip())"
   ]
  },
  {
   "cell_type": "code",
   "execution_count": 84,
   "metadata": {},
   "outputs": [],
   "source": [
    "tokenized_sentences = []\n",
    "\n",
    "for sentence in sentences_list:\n",
    "    marked_text = \"[CLS] \" + sentence + \" [SEP]\"\n",
    "    tokenized_text = tokenizer.tokenize(marked_text)\n",
    "    tokenized_sentences.append(tokenized_text)"
   ]
  },
  {
   "cell_type": "code",
   "execution_count": 87,
   "metadata": {},
   "outputs": [
    {
     "name": "stderr",
     "output_type": "stream",
     "text": [
      "Some weights of the model checkpoint at bert-base-uncased were not used when initializing BertModel: ['cls.seq_relationship.weight', 'cls.predictions.transform.LayerNorm.bias', 'cls.predictions.decoder.weight', 'cls.seq_relationship.bias', 'cls.predictions.transform.dense.bias', 'cls.predictions.bias', 'cls.predictions.transform.LayerNorm.weight', 'cls.predictions.transform.dense.weight']\n",
      "- This IS expected if you are initializing BertModel from the checkpoint of a model trained on another task or with another architecture (e.g. initializing a BertForSequenceClassification model from a BertForPreTraining model).\n",
      "- This IS NOT expected if you are initializing BertModel from the checkpoint of a model that you expect to be exactly identical (initializing a BertForSequenceClassification model from a BertForSequenceClassification model).\n"
     ]
    }
   ],
   "source": [
    "embeddings_list = []\n",
    "mouse_indexes = []\n",
    "\n",
    "model = BertModel.from_pretrained('bert-base-uncased', output_hidden_states = True)\n",
    "model.eval()\n",
    "\n",
    "for tokenized_sentence in tokenized_sentences:\n",
    "\n",
    "    mouse_indexes.append(tokenized_sentence.index(\"mouse\"))\n",
    "\n",
    "    indexed_tokens = tokenizer.convert_tokens_to_ids(tokenized_sentence)\n",
    "    segments_ids = [1] * len(tokenized_sentence)\n",
    "\n",
    "    tokens_tensor = torch.tensor([indexed_tokens])\n",
    "    segments_tensors = torch.tensor([segments_ids])\n",
    "\n",
    "    with torch.no_grad():\n",
    "        outputs = model(tokens_tensor, segments_tensors)\n",
    "        hidden_states = outputs[2]\n",
    "\n",
    "        '''\n",
    "        hidden_states has 4 dimensions:\n",
    "        1. The layer number (13 layers)\n",
    "        2. The batch number (sentences) [deleted]\n",
    "        3. The word / token number (tokens in sentence)\n",
    "        4. The hidden unit / feature number (768 features) \n",
    "        '''\n",
    "\n",
    "    token_embeddings = torch.stack(hidden_states, dim=0)\n",
    "    token_embeddings = torch.squeeze(token_embeddings, dim=1)\n",
    "\n",
    "    embeddings_list.append(token_embeddings)"
   ]
  },
  {
   "cell_type": "code",
   "execution_count": 93,
   "metadata": {},
   "outputs": [
    {
     "name": "stdout",
     "output_type": "stream",
     "text": [
      "[-0.953875    0.24298051 -1.0363265  -0.5149844 ]\n",
      "[-1.1949903  -0.01823178 -0.6367848  -0.38028663]\n",
      "[-0.953875    0.24298051 -1.0363265  -0.5149844 ]\n",
      "[-0.21474059 -0.3062644  -0.3999245  -0.30047092]\n",
      "[ 0.57113004  0.12427469 -0.4557025  -0.39821926]\n",
      "[-0.21474059 -0.3062644  -0.3999245  -0.30047092]\n",
      "[-0.89742833  0.8151068  -0.5790246  -0.15906268]\n",
      "[-0.21474059 -0.3062644  -0.3999245  -0.30047092]\n",
      "[ 0.10403109 -0.10193337 -0.12502177 -0.28862375]\n",
      "[ 0.10403109 -0.10193337 -0.12502177 -0.28862375]\n",
      "[ 0.39346227 -0.13801533 -0.0295036  -0.79733586]\n",
      "[-1.1949903  -0.01823178 -0.6367848  -0.38028663]\n",
      "[-0.16911817  0.9123539  -0.7249186  -0.40225494]\n",
      "[-0.4198347   1.1695786  -0.95079416 -0.48941252]\n",
      "[ 0.27180743  0.9649347  -0.55659103 -0.90386796]\n",
      "[-0.78540903  0.13333738 -0.9690666   0.14383869]\n",
      "[-0.78540903  0.13333738 -0.9690666   0.14383869]\n",
      "[-0.96983165  0.17588425 -0.17917037 -0.39939538]\n",
      "[ 0.10403109 -0.10193337 -0.12502177 -0.28862375]\n",
      "[-0.953875    0.24298051 -1.0363265  -0.5149844 ]\n",
      "[-0.89742833  0.8151068  -0.5790246  -0.15906268]\n",
      "[-0.96983165  0.17588425 -0.17917037 -0.39939538]\n",
      "[-0.4978901   0.15976739 -0.57643765 -0.02298542]\n",
      "[-0.16911817  0.9123539  -0.7249186  -0.40225494]\n",
      "[-0.41995725  0.7654881   0.44987044 -0.21901725]\n",
      "[-0.953875    0.24298051 -1.0363265  -0.5149844 ]\n",
      "[-0.89742833  0.8151068  -0.5790246  -0.15906268]\n",
      "[-0.21474059 -0.3062644  -0.3999245  -0.30047092]\n"
     ]
    },
    {
     "ename": "IndexError",
     "evalue": "index 41 is out of bounds for axis 0 with size 36",
     "output_type": "error",
     "traceback": [
      "\u001b[0;31m---------------------------------------------------------------------------\u001b[0m",
      "\u001b[0;31mIndexError\u001b[0m                                Traceback (most recent call last)",
      "Cell \u001b[0;32mIn [93], line 2\u001b[0m\n\u001b[1;32m      1\u001b[0m \u001b[38;5;28;01mfor\u001b[39;00m mouse_index \u001b[38;5;129;01min\u001b[39;00m mouse_indexes:\n\u001b[0;32m----> 2\u001b[0m     \u001b[38;5;28mprint\u001b[39m(\u001b[43membeddings_list\u001b[49m\u001b[43m[\u001b[49m\u001b[38;5;241;43m0\u001b[39;49m\u001b[43m]\u001b[49m\u001b[38;5;241;43m.\u001b[39;49m\u001b[43mnumpy\u001b[49m\u001b[43m(\u001b[49m\u001b[43m)\u001b[49m\u001b[43m[\u001b[49m\u001b[38;5;241;43m12\u001b[39;49m\u001b[43m]\u001b[49m\u001b[43m[\u001b[49m\u001b[43mmouse_index\u001b[49m\u001b[43m]\u001b[49m[:\u001b[38;5;241m4\u001b[39m])\n",
      "\u001b[0;31mIndexError\u001b[0m: index 41 is out of bounds for axis 0 with size 36"
     ]
    }
   ],
   "source": [
    "for mouse_index in mouse_indexes:\n",
    "    print(embeddings_list[0].numpy()[12][mouse_index][:4])"
   ]
  },
  {
   "cell_type": "code",
   "execution_count": null,
   "metadata": {},
   "outputs": [],
   "source": []
  }
 ],
 "metadata": {
  "kernelspec": {
   "display_name": "Python 3.10.5 64-bit",
   "language": "python",
   "name": "python3"
  },
  "language_info": {
   "codemirror_mode": {
    "name": "ipython",
    "version": 3
   },
   "file_extension": ".py",
   "mimetype": "text/x-python",
   "name": "python",
   "nbconvert_exporter": "python",
   "pygments_lexer": "ipython3",
   "version": "3.8.9"
  },
  "orig_nbformat": 4,
  "vscode": {
   "interpreter": {
    "hash": "f43cc61ecb9346674920bd0c80871174aab7f47f22ffcff9da1f54708c95c5a8"
   }
  }
 },
 "nbformat": 4,
 "nbformat_minor": 2
}
