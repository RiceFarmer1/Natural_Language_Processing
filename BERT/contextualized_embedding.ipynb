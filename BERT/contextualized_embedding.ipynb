{
 "cells": [
  {
   "cell_type": "code",
   "execution_count": 1,
   "metadata": {},
   "outputs": [
    {
     "name": "stderr",
     "output_type": "stream",
     "text": [
      "/Users/lipang/Library/Python/3.8/lib/python/site-packages/tqdm/auto.py:22: TqdmWarning: IProgress not found. Please update jupyter and ipywidgets. See https://ipywidgets.readthedocs.io/en/stable/user_install.html\n",
      "  from .autonotebook import tqdm as notebook_tqdm\n",
      "The cache for model files in Transformers v4.22.0 has been updated. Migrating your old cache. This is a one-time only operation. You can interrupt this and resume the migration later on by calling `transformers.utils.move_cache()`.\n"
     ]
    },
    {
     "name": "stdout",
     "output_type": "stream",
     "text": [
      "Moving 0 files to the new cache system\n"
     ]
    },
    {
     "name": "stderr",
     "output_type": "stream",
     "text": [
      "0it [00:00, ?it/s]\n",
      "Downloading: 100%|██████████| 232k/232k [00:00<00:00, 1.51MB/s]\n",
      "Downloading: 100%|██████████| 28.0/28.0 [00:00<00:00, 7.80kB/s]\n",
      "Downloading: 100%|██████████| 570/570 [00:00<00:00, 104kB/s]\n"
     ]
    }
   ],
   "source": [
    "import torch\n",
    "from transformers import BertTokenizer, BertModel\n",
    "import numpy as np\n",
    "\n",
    "# Load pre-trained model tokenizer (vocabulary)\n",
    "tokenizer = BertTokenizer.from_pretrained('bert-base-uncased')"
   ]
  },
  {
   "cell_type": "code",
   "execution_count": 2,
   "metadata": {},
   "outputs": [],
   "source": [
    "sentences_list = []\n",
    "\n",
    "file1 = open('house_mouse.txt', 'r')\n",
    "sentences1 = file1.readlines()\n",
    "  \n",
    "for sentence in sentences1:\n",
    "    sentences_list.append(sentence.strip())\n",
    "\n",
    "file1 = open('computer_mouse.txt', 'r')\n",
    "sentences2 = file1.readlines()\n",
    "\n",
    "for sentence in sentences2:\n",
    "    sentences_list.append(sentence.strip())"
   ]
  },
  {
   "cell_type": "code",
   "execution_count": 6,
   "metadata": {},
   "outputs": [
    {
     "name": "stdout",
     "output_type": "stream",
     "text": [
      "[['[CLS]', 'the', 'house', 'mouse', 'is', 'a', 'small', 'mammal', 'of', 'the', 'order', 'rode', '##nti', '##a', ',', 'characteristic', '##ally', 'having', 'a', 'pointed', 'snout', ',', 'large', 'rounded', 'ears', ',', 'and', 'a', 'long', 'and', 'almost', 'hair', '##less', 'tail', '.', '[SEP]'], ['[CLS]', 'although', 'a', 'wild', 'animal', ',', 'the', 'house', 'mouse', 'has', 'benefited', 'significantly', 'from', 'ass', '##oc', '##iating', 'with', 'human', 'habitat', '##ion', 'to', 'the', 'point', 'that', 'truly', 'wild', 'populations', 'are', 'significantly', 'less', 'common', 'than', 'the', 'semi', '-', 'tame', 'populations', 'near', 'human', 'activity', '.', '[SEP]'], ['[CLS]', 'the', 'house', 'mouse', 'has', 'been', 'domestic', '##ated', 'as', 'the', 'pet', '.', '[SEP]'], ['[CLS]', 'the', 'average', 'sleep', 'time', 'of', 'a', 'captive', 'house', 'mouse', 'is', 'reported', 'to', 'be', '12', '.', '5', 'hours', 'per', 'day', '.', '[SEP]'], ['[CLS]', 'some', 'populations', 'are', 'hybrids', 'of', 'different', 'subspecies', ',', 'including', 'the', 'japanese', 'house', 'mouse', '.', '[SEP]'], ['[CLS]', 'the', 'average', 'sleep', 'time', 'of', 'a', 'captive', 'house', 'mouse', 'is', 'reported', 'to', 'be', '12', '.', '5', 'hours', 'per', 'day', '.', '[SEP]'], ['[CLS]', 'the', 'social', 'behavior', 'of', 'the', 'house', 'mouse', 'is', 'not', 'rigid', '##ly', 'fixed', 'into', 'species', '-', 'specific', 'patterns', 'but', 'is', 'instead', 'adapt', '##able', 'to', 'the', 'environmental', 'conditions', ',', 'such', 'as', 'the', 'availability', 'of', 'food', 'and', 'space', '.', '[SEP]'], ['[CLS]', 'the', 'social', 'unit', 'of', 'com', '##men', '##sal', 'house', 'mouse', 'populations', 'generally', 'consists', 'of', 'one', 'male', 'and', 'two', 'or', 'more', 'females', ',', 'usually', 'related', '.', '[SEP]'], ['[CLS]', 'in', 'open', 'areas', 'such', 'as', 'shrubs', 'and', 'fields', ',', 'the', 'house', 'mouse', 'population', 'is', 'known', 'as', 'non', '##com', '##men', '##sal', '.', '[SEP]'], ['[CLS]', 'female', '-', 'female', 'aggression', 'in', 'the', 'non', '##com', '##men', '##sal', 'house', 'mouse', 'populations', 'is', 'much', 'higher', ',', 'reaching', 'a', 'level', 'generally', 'attributed', 'to', 'free', '-', 'ranging', 'species', '.', '[SEP]'], ['[CLS]', 'both', 'com', '##men', '##sal', 'and', 'non', '##com', '##men', '##sal', 'house', 'mouse', 'males', 'aggressively', 'defend', 'their', 'territory', 'and', 'act', 'to', 'exclude', 'all', 'intruder', '##s', '.', '[SEP]'], ['[CLS]', 'however', ',', 'the', 'ventral', 'area', 'of', 'the', 'mouse', 're', '##tina', 'has', 'a', 'much', 'greater', 'density', 'of', 'ultraviolet', '-', 'sensitive', 'cones', 'than', 'other', 'areas', 'of', 'the', 're', '##tina', ',', 'although', 'the', 'biological', 'significance', 'of', 'this', 'structure', 'is', 'unknown', '.', '[SEP]'], ['[CLS]', 'one', 'female', 'can', 'have', '5', 'to', '10', 'litter', '##s', 'per', 'year', ',', 'so', 'the', 'mouse', 'population', 'can', 'increase', 'very', 'quickly', '.', 'breeding', 'occurs', 'throughout', 'the', 'year', '.', '[SEP]'], ['[CLS]', 'both', 'evolutionary', 'and', 'behavioral', 'consequences', 'result', 'from', 'the', 'poly', '##gam', '##ous', 'nature', 'of', 'the', 'house', 'mouse', '.', '[SEP]'], ['[CLS]', 'when', 'multiple', 'males', 'mate', 'with', 'one', 'female', ',', 'there', 'are', 'multiple', 'sets', 'of', 'sperm', 'game', '##tes', 'in', 'a', 'female', 'mouse', '.', '[SEP]'], ['[CLS]', 'in', 'the', 'house', 'mouse', ',', 'the', 'major', 'ur', '##ina', '##ry', 'protein', 'gene', 'cluster', 'provides', 'a', 'highly', 'poly', '##morphic', 'scent', 'signal', 'of', 'genetic', 'identity', 'that', 'appears', 'to', 'under', '##lie', 'kin', 'recognition', 'and', 'in', '##bre', '##eding', 'avoidance', '.', '[SEP]'], ['[CLS]', 'a', 'region', 'of', 'mouse', 'chromosome', '16', 'is', 'associated', 'with', 'thyroid', 'function', 'in', 'mice', '.', '[SEP]'], ['[CLS]', 'the', 'met', '##hus', '##ela', '##h', 'mouse', 'prize', 'is', 'a', 'competition', 'to', 'breed', 'or', 'engineer', 'extremely', 'long', '-', 'lived', 'laboratory', 'mice', '.', '[SEP]'], ['[CLS]', 'as', 'of', '2005', ',', 'the', 'record', 'holder', 'was', 'a', 'genetically', 'engineered', 'mouse', 'that', 'lived', 'for', '1', ',', '81', '##9', 'days', '.', '[SEP]'], ['[CLS]', 'the', 'house', 'mouse', 'first', 'arrived', 'in', 'the', 'americas', 'in', 'the', 'early', 'sixteenth', 'century', '.', 'it', 'was', 'carried', 'aboard', 'on', 'the', 'ships', 'of', 'spanish', 'explorers', 'and', 'con', '##quist', '##ador', '##s', '.', '[SEP]'], ['[CLS]', 'many', 'studies', 'have', 'been', 'done', 'on', 'mouse', 'ph', '##yl', '##ogen', '##ies', 'to', 'rec', '##ons', '##truct', 'early', 'human', 'movements', '.', '[SEP]'], ['[CLS]', 'domestic', 'varieties', 'of', 'the', 'house', 'mouse', 'are', 'bred', 'as', 'a', 'food', 'source', 'for', 'some', 'car', '##nivorous', 'pet', 'reptiles', ',', 'birds', ',', 'art', '##hr', '##op', '##ods', ',', 'and', 'fish', '.', '[SEP]'], ['[CLS]', 'although', 'the', 'centers', 'for', 'disease', 'control', 'and', 'prevention', 'provides', 'a', 'list', 'with', 'diseases', 'transmitted', 'by', 'rodents', ',', 'only', 'a', 'few', 'of', 'the', 'diseases', 'are', 'transmitted', 'through', 'the', 'house', 'mouse', '.', '[SEP]'], ['[CLS]', 'while', 'rat', 'flea', '##s', 'are', 'the', 'most', 'common', 'vectors', ',', 'cat', 'flea', '##s', 'and', 'mouse', 'flea', '##s', 'are', 'less', 'common', 'modes', 'of', 'transmission', '.', '[SEP]'], ['[CLS]', 'new', 'zealand', 'had', 'no', 'land', 'mammals', 'other', 'than', 'two', 'species', 'of', 'bat', 'prior', 'to', 'human', 'occupation', ',', 'and', 'the', 'house', 'mouse', 'is', 'one', 'of', 'many', 'species', 'that', 'have', 'been', 'introduced', '.', '[SEP]'], ['[CLS]', 'a', 'computer', 'mouse', 'is', 'a', 'hand', '-', 'held', 'pointing', 'device', 'that', 'detect', '##s', 'two', '-', 'dimensional', 'motion', 'relative', 'to', 'a', 'surface', '.', '[SEP]'], ['[CLS]', 'the', 'first', 'public', 'demonstration', 'of', 'a', 'mouse', 'controlling', 'a', 'computer', 'system', 'was', 'in', '1968', '.', '[SEP]'], ['[CLS]', 'the', 'earliest', 'known', 'written', 'use', 'of', 'the', 'term', 'mouse', 'in', 'reference', 'to', 'a', 'computer', 'pointing', 'device', 'is', 'in', 'bill', 'english', \"'\", 's', 'july', '1965', 'publication', ',', '\"', 'computer', '-', 'aided', 'display', 'control', '\"', '.', '[SEP]'], ['[CLS]', 'douglas', 'eng', '##el', '##bar', '##t', 'of', 'the', 'stanford', 'research', 'institute', 'has', 'been', 'credited', 'in', 'published', 'books', 'by', 'thierry', 'bard', '##ini', ',', 'paul', 'ce', '##ru', '##zzi', ',', 'howard', 'r', '##hein', '##gold', ',', 'and', 'several', 'others', 'as', 'the', 'inventor', 'of', 'the', 'computer', 'mouse', '.', '[SEP]'], ['[CLS]', 'they', 'christ', '##ened', 'the', 'device', 'the', 'mouse', 'as', 'early', 'models', 'had', 'a', 'cord', 'attached', 'to', 'the', 'rear', 'part', 'of', 'the', 'device', 'which', 'looked', 'like', 'a', 'tail', '.', '[SEP]'], ['[CLS]', 'in', 'any', 'event', ',', 'the', 'invention', 'of', 'the', 'mouse', 'was', 'just', 'a', 'small', 'part', 'of', 'eng', '##el', '##bar', '##t', \"'\", 's', 'much', 'larger', 'project', 'of', 'aug', '##ment', '##ing', 'human', 'intellect', '.', '[SEP]'], ['[CLS]', 'the', 'first', 'mouse', ',', 'a', 'bulky', 'device', 'used', 'two', 'potent', '##iom', '##eter', '##s', 'perpendicular', 'to', 'each', 'other', 'and', 'connected', 'to', 'wheels', ':', 'the', 'rotation', 'of', 'each', 'wheel', 'translated', 'into', 'motion', 'along', 'one', 'axis', '.', '[SEP]'], ['[CLS]', 'the', 'x', '##ero', '##x', 'alto', 'was', 'one', 'of', 'the', 'first', 'computers', 'designed', 'for', 'individual', 'use', 'in', '1973', 'and', 'is', 'regarded', 'as', 'the', 'first', 'modern', 'computer', 'to', 'use', 'a', 'mouse', '.', '[SEP]'], ['[CLS]', 'the', 'third', 'marketed', 'version', 'of', 'an', 'integrated', 'mouse', 'shipped', 'as', 'a', 'part', 'of', 'a', 'computer', 'and', 'intended', 'for', 'personal', 'computer', 'navigation', 'came', 'with', 'the', 'x', '##ero', '##x', '80', '##10', 'star', 'in', '1981', '.', '[SEP]'], ['[CLS]', 'by', '1982', ',', 'the', 'x', '##ero', '##x', '80', '##10', 'was', 'probably', 'the', 'best', '-', 'known', 'computer', 'with', 'a', 'mouse', '.', '[SEP]'], ['[CLS]', 'however', ',', 'the', 'mouse', 'remained', 'relatively', 'obscure', 'until', 'the', 'appearance', 'of', 'the', 'macintosh', '128', '##k', 'in', '1984', ',', 'and', 'of', 'the', 'amiga', '1000', 'and', 'the', 'atari', 'st', 'in', '1985', '.', '[SEP]'], ['[CLS]', 'a', 'mouse', 'typically', 'controls', 'the', 'motion', 'of', 'a', 'pointer', 'in', 'two', 'dimensions', 'in', 'a', 'graphical', 'user', 'interface', '.', '[SEP]'], ['[CLS]', 'the', 'mouse', 'turns', 'movements', 'of', 'the', 'hand', 'backward', 'and', 'forward', ',', 'left', 'and', 'right', 'into', 'equivalent', 'electronic', 'signals', 'that', 'in', 'turn', 'are', 'used', 'to', 'move', 'the', 'pointer', '.', '[SEP]'], ['[CLS]', 'the', 'relative', 'movements', 'of', 'the', 'mouse', 'on', 'the', 'surface', 'are', 'applied', 'to', 'the', 'position', 'of', 'the', 'pointer', 'on', 'the', 'screen', ',', 'which', 'signals', 'the', 'point', 'where', 'actions', 'of', 'the', 'user', 'take', 'place', ',', 'so', 'hand', 'movements', 'are', 'replicate', '##d', 'by', 'the', 'pointer', '.', '[SEP]'], ['[CLS]', 'users', 'can', 'also', 'employ', 'mice', 'ge', '##st', '##ural', '##ly', ',', 'meaning', 'that', 'a', 'stylized', 'motion', 'of', 'the', 'mouse', 'cu', '##rso', '##r', 'itself', ',', 'called', 'a', '\"', 'gesture', '\"', ',', 'can', 'issue', 'a', 'command', 'or', 'map', 'to', 'a', 'specific', 'action', '.', '[SEP]'], ['[CLS]', 'for', 'example', ',', 'in', 'the', 'first', '-', 'person', 'shooter', 'genre', 'of', 'games', ',', 'players', 'usually', 'employ', 'the', 'mouse', 'to', 'control', 'the', 'direction', 'in', 'which', 'the', 'virtual', 'player', \"'\", 's', '\"', 'head', '\"', 'faces', '.', '[SEP]'], ['[CLS]', 'the', 'ball', 'mouse', 'replaced', 'the', 'external', 'wheels', 'with', 'a', 'single', 'ball', 'that', 'could', 'rotate', 'in', 'any', 'direction', '.', '[SEP]'], ['[CLS]', 'this', 'variant', 'of', 'the', 'mouse', 'resembled', 'an', 'inverted', 'track', '##ball', 'and', 'became', 'the', 'predominant', 'form', 'used', 'with', 'personal', 'computers', 'throughout', 'the', '1980s', 'and', '1990s', '.', '[SEP]'], ['[CLS]', 'early', 'optical', 'mice', 'relied', 'entirely', 'on', 'one', 'or', 'more', 'light', '-', 'emi', '##tting', 'di', '##odes', 'and', 'an', 'imaging', 'array', 'of', 'photo', '##dio', '##des', 'to', 'detect', 'movement', 'relative', 'to', 'the', 'underlying', 'surface', ',', 'es', '##che', '##wing', 'the', 'internal', 'moving', 'parts', 'a', 'mechanical', 'mouse', 'uses', 'in', 'addition', 'to', 'its', 'optics', '.', '[SEP]'], ['[CLS]', 'later', ',', 'more', 'surface', '-', 'independent', 'optical', 'mice', 'use', 'an', 'opt', '##oe', '##le', '##ct', '##ron', '##ic', 'sensor', 'to', 'take', 'successive', 'images', 'of', 'the', 'surface', 'on', 'which', 'the', 'mouse', 'operates', '.', '[SEP]'], ['[CLS]', 'this', 'wireless', 'mouse', 'was', 'worn', 'on', 'a', 'ring', 'around', 'a', 'finger', ',', 'which', 'enabled', 'the', 'thumb', 'to', 'access', 'three', 'buttons', '.', '[SEP]'], ['[CLS]', 'a', 'contact', '##less', 'sensor', 'design', 'uses', 'a', 'magnetic', 'sensor', 'array', 'for', 'sensing', 'three', 'ache', '##s', 'translation', 'and', 'two', 'optical', 'mouse', 'sensors', 'for', 'three', 'ache', '##s', 'rotation', '.', '[SEP]'], ['[CLS]', 'such', 'a', 'mouse', 'can', 'aug', '##ment', 'user', '-', 'interfaces', 'with', 'ha', '##ptic', 'feedback', ',', 'such', 'as', 'giving', 'feedback', 'when', 'crossing', 'a', 'window', 'boundary', '.', '[SEP]'], ['[CLS]', 'a', 'mouse', 'may', 'be', 'angled', 'from', 'the', 'thumb', 'downward', 'to', 'the', 'opposite', 'side', '–', 'this', 'is', 'known', 'to', 'reduce', 'wrist', 'pro', '##nation', '.', 'e', '[SEP]'], ['[CLS]', 'er', '##gon', '##omic', 'quality', 'is', 'also', 'an', 'important', 'factor', 'in', 'gaming', 'mouse', '.', '[SEP]']]\n"
     ]
    }
   ],
   "source": [
    "tokenized_sentences = []\n",
    "\n",
    "for sentence in sentences_list:\n",
    "    marked_text = \"[CLS] \" + sentence + \" [SEP]\"\n",
    "    tokenized_text = tokenizer.tokenize(marked_text)\n",
    "    tokenized_sentences.append(tokenized_text)\n",
    "\n",
    "print(tokenized_sentences)"
   ]
  },
  {
   "cell_type": "code",
   "execution_count": 48,
   "metadata": {},
   "outputs": [
    {
     "name": "stderr",
     "output_type": "stream",
     "text": [
      "Some weights of the model checkpoint at bert-base-uncased were not used when initializing BertModel: ['cls.seq_relationship.weight', 'cls.predictions.transform.LayerNorm.bias', 'cls.predictions.decoder.weight', 'cls.seq_relationship.bias', 'cls.predictions.transform.dense.bias', 'cls.predictions.bias', 'cls.predictions.transform.LayerNorm.weight', 'cls.predictions.transform.dense.weight']\n",
      "- This IS expected if you are initializing BertModel from the checkpoint of a model trained on another task or with another architecture (e.g. initializing a BertForSequenceClassification model from a BertForPreTraining model).\n",
      "- This IS NOT expected if you are initializing BertModel from the checkpoint of a model that you expect to be exactly identical (initializing a BertForSequenceClassification model from a BertForSequenceClassification model).\n"
     ]
    }
   ],
   "source": [
    "embeddings_list = []\n",
    "\n",
    "model = BertModel.from_pretrained('bert-base-uncased', output_hidden_states = True)\n",
    "model.eval()\n",
    "\n",
    "for tokenized_sentence in tokenized_sentences:\n",
    "\n",
    "    indexed_tokens = tokenizer.convert_tokens_to_ids(tokenized_sentence)\n",
    "    segments_ids = [1] * len(tokenized_sentence)\n",
    "\n",
    "    tokens_tensor = torch.tensor([indexed_tokens])\n",
    "    segments_tensors = torch.tensor([segments_ids])\n",
    "\n",
    "    with torch.no_grad():\n",
    "        outputs = model(tokens_tensor, segments_tensors)\n",
    "        hidden_states = outputs[2]\n",
    "\n",
    "        '''\n",
    "        hidden_states has 4 dimensions:\n",
    "        1. The layer number (13 layers)\n",
    "        2. The batch number (sentences)\n",
    "        3. The word / token number (tokens in sentence)\n",
    "        4. The hidden unit / feature number (768 features) \n",
    "        '''\n",
    "\n",
    "    token_embeddings = torch.stack(hidden_states, dim=0)\n",
    "    token_embeddings = torch.squeeze(token_embeddings, dim=1)\n",
    "\n",
    "    embeddings_list.append(token_embeddings)"
   ]
  },
  {
   "cell_type": "code",
   "execution_count": 49,
   "metadata": {},
   "outputs": [
    {
     "name": "stderr",
     "output_type": "stream",
     "text": [
      "/var/folders/v4/3zx43p8s5t311plcz6xsj0yw0000gn/T/ipykernel_17803/394597466.py:1: FutureWarning: The input object of type 'Tensor' is an array-like implementing one of the corresponding protocols (`__array__`, `__array_interface__` or `__array_struct__`); but not a sequence (or 0-D). In the future, this object will be coerced as if it was first converted using `np.array(obj)`. To retain the old behaviour, you have to either modify the type 'Tensor', or assign to an empty array created with `np.empty(correct_shape, dtype=object)`.\n",
      "  embeddings_list = np.array(embeddings_list)\n",
      "/var/folders/v4/3zx43p8s5t311plcz6xsj0yw0000gn/T/ipykernel_17803/394597466.py:1: VisibleDeprecationWarning: Creating an ndarray from ragged nested sequences (which is a list-or-tuple of lists-or-tuples-or ndarrays with different lengths or shapes) is deprecated. If you meant to do this, you must specify 'dtype=object' when creating the ndarray.\n",
      "  embeddings_list = np.array(embeddings_list)\n"
     ]
    },
    {
     "data": {
      "text/plain": [
       "torch.Size([36, 768])"
      ]
     },
     "execution_count": 49,
     "metadata": {},
     "output_type": "execute_result"
    }
   ],
   "source": [
    "embeddings_list = np.array(embeddings_list)\n",
    "embeddings_list[0][12].shape"
   ]
  }
 ],
 "metadata": {
  "kernelspec": {
   "display_name": "Python 3.10.5 64-bit",
   "language": "python",
   "name": "python3"
  },
  "language_info": {
   "codemirror_mode": {
    "name": "ipython",
    "version": 3
   },
   "file_extension": ".py",
   "mimetype": "text/x-python",
   "name": "python",
   "nbconvert_exporter": "python",
   "pygments_lexer": "ipython3",
   "version": "3.8.9"
  },
  "orig_nbformat": 4,
  "vscode": {
   "interpreter": {
    "hash": "f43cc61ecb9346674920bd0c80871174aab7f47f22ffcff9da1f54708c95c5a8"
   }
  }
 },
 "nbformat": 4,
 "nbformat_minor": 2
}
