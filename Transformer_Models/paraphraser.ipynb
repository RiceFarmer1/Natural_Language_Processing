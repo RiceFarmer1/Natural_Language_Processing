{
 "cells": [
  {
   "cell_type": "code",
   "execution_count": 21,
   "metadata": {},
   "outputs": [],
   "source": [
    "import torch\n",
    "from transformers import PegasusForConditionalGeneration, PegasusTokenizer\n",
    "from sentence_splitter import SentenceSplitter, split_text_into_sentences\n",
    "\n",
    "model_name = 'tuner007/pegasus_paraphrase' # https://huggingface.co/tuner007/pegasus_paraphrase\n",
    "torch_device = 'cpu'\n",
    "tokenizer = PegasusTokenizer.from_pretrained(model_name)\n",
    "model = PegasusForConditionalGeneration.from_pretrained(model_name).to(torch_device)"
   ]
  },
  {
   "cell_type": "code",
   "execution_count": 23,
   "metadata": {},
   "outputs": [],
   "source": [
    "def get_response(input_text,num_return_sequences):\n",
    "    batch = tokenizer.prepare_seq2seq_batch([input_text],truncation=True,padding='longest',max_length=60, return_tensors=\"pt\").to(torch_device)\n",
    "    translated = model.generate(**batch,max_length=60,num_beams=10, num_return_sequences=num_return_sequences, temperature=1.5)\n",
    "    tgt_text = tokenizer.batch_decode(translated, skip_special_tokens=True)\n",
    "    return tgt_text"
   ]
  },
  {
   "cell_type": "code",
   "execution_count": 28,
   "metadata": {},
   "outputs": [
    {
     "name": "stdout",
     "output_type": "stream",
     "text": [
      "I think we all have our own truths and everyone percieves truth differently. To me, a true story is one that is very detailed and captures different perspectives from different people. In addition, for me to see a story as \"true\", it would have to seem realistic based on my experiences in life. \n",
      "\n",
      "Everyone has their own truth and truth is different for everyone. A true story captures different perspectives from different people and is very detailed. It would have to be realistic for me to see a story as true.\n"
     ]
    }
   ],
   "source": [
    "# paragraph of text\n",
    "context = input(\"Enter a paragraph\")\n",
    "\n",
    "splitter = SentenceSplitter(language='en')\n",
    "sentence_list = splitter.split(context)\n",
    "\n",
    "# for loop to iterate through the list of sentences and paraphrase each sentence in the iteration\n",
    "paraphrase = []\n",
    "\n",
    "for i in sentence_list:\n",
    "  a = get_response(i,1)\n",
    "  paraphrase.append(a)\n",
    "\n",
    "# convert back to string\n",
    "paraphrase2 = [' '.join(x) for x in paraphrase]\n",
    "paraphrase3 = [' '.join(x for x in paraphrase2) ]\n",
    "\n",
    "paraphrased_text = str(paraphrase3).strip('[]').strip(\"'\")\n",
    "\n",
    "print(context)\n",
    "print(\"\")\n",
    "print(paraphrased_text)"
   ]
  }
 ],
 "metadata": {
  "kernelspec": {
   "display_name": "Python 3.10.5 64-bit",
   "language": "python",
   "name": "python3"
  },
  "language_info": {
   "codemirror_mode": {
    "name": "ipython",
    "version": 3
   },
   "file_extension": ".py",
   "mimetype": "text/x-python",
   "name": "python",
   "nbconvert_exporter": "python",
   "pygments_lexer": "ipython3",
   "version": "3.10.5"
  },
  "orig_nbformat": 4,
  "vscode": {
   "interpreter": {
    "hash": "f43cc61ecb9346674920bd0c80871174aab7f47f22ffcff9da1f54708c95c5a8"
   }
  }
 },
 "nbformat": 4,
 "nbformat_minor": 2
}
