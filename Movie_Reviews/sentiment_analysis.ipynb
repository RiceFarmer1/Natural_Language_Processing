{
 "cells": [
  {
   "cell_type": "code",
   "execution_count": 1,
   "metadata": {},
   "outputs": [
    {
     "name": "stderr",
     "output_type": "stream",
     "text": [
      "[nltk_data] Downloading package punkt to C:\\Users\\Oscar\n",
      "[nltk_data]     Pang\\AppData\\Roaming\\nltk_data...\n",
      "[nltk_data]   Package punkt is already up-to-date!\n"
     ]
    }
   ],
   "source": [
    "import tensorflow as tf\n",
    "from tensorflow import keras\n",
    "\n",
    "from keras.models import Sequential\n",
    "from keras.layers import Dense, Embedding, GlobalAveragePooling1D, LSTM\n",
    "\n",
    "import nltk\n",
    "from nltk import word_tokenize\n",
    "nltk.download('punkt')\n",
    "\n",
    "import numpy as np"
   ]
  },
  {
   "cell_type": "code",
   "execution_count": 2,
   "metadata": {},
   "outputs": [],
   "source": [
    "# model\n",
    "loaded_model = keras.models.load_model('reviews.model')\n",
    "\n",
    "# dataset\n",
    "imdb = keras.datasets.imdb\n",
    "\n",
    "# word to index\n",
    "word2index = imdb.get_word_index()\n",
    "\n",
    "# variables\n",
    "words = 20000\n",
    "max_len = 100"
   ]
  },
  {
   "cell_type": "code",
   "execution_count": 3,
   "metadata": {},
   "outputs": [],
   "source": [
    "# load IMDB dataset as lists of integers\n",
    "words = 20000\n",
    "(train_data, train_labels), (test_data, test_labels) = imdb.load_data(num_words=words)\n",
    "\n",
    "# pad the arrays so they all have the same length\n",
    "train_data = keras.preprocessing.sequence.pad_sequences(train_data, maxlen=max_len)\n",
    "test_data = keras.preprocessing.sequence.pad_sequences(test_data, maxlen=max_len)"
   ]
  },
  {
   "cell_type": "code",
   "execution_count": 7,
   "metadata": {},
   "outputs": [
    {
     "name": "stdout",
     "output_type": "stream",
     "text": [
      "Epoch 1/5\n",
      "625/625 [==============================] - 180s 279ms/step - loss: 0.4588 - acc: 0.7643 - val_loss: 0.3408 - val_acc: 0.8590\n",
      "Epoch 2/5\n",
      "625/625 [==============================] - 174s 279ms/step - loss: 0.2684 - acc: 0.8924 - val_loss: 0.3619 - val_acc: 0.8532\n",
      "Epoch 3/5\n",
      "625/625 [==============================] - 171s 273ms/step - loss: 0.1954 - acc: 0.9268 - val_loss: 0.3963 - val_acc: 0.8454\n",
      "Epoch 4/5\n",
      "625/625 [==============================] - 171s 274ms/step - loss: 0.1539 - acc: 0.9436 - val_loss: 0.4148 - val_acc: 0.8402\n",
      "Epoch 5/5\n",
      "625/625 [==============================] - 169s 270ms/step - loss: 0.1198 - acc: 0.9556 - val_loss: 0.5057 - val_acc: 0.8410\n",
      "INFO:tensorflow:Assets written to: reviews.model\\assets\n"
     ]
    }
   ],
   "source": [
    "# Create a model\n",
    "embedding_dimension = 16\n",
    "model = Sequential()\n",
    "\n",
    "# The shape is: (samples, vocab_size, embedding_dimension)\n",
    "model.add(Embedding(words, embedding_dimension, input_length=max_len))\n",
    "\n",
    "# Add 2 bidirectional LSTMS\n",
    "model.add(keras.layers.Bidirectional(LSTM(64, return_sequences=True, dropout=0.5, recurrent_dropout=0.5)))\n",
    "model.add(keras.layers.Bidirectional(LSTM(64, dropout=0.2, recurrent_dropout=0.5)))\n",
    "\n",
    "# Add a classifier on top\n",
    "model.add(Dense(1, activation='sigmoid'))\n",
    "model.compile(optimizer='adam', loss='binary_crossentropy', metrics=['acc'])\n",
    "\n",
    "# Train the model\n",
    "model.fit(\n",
    "    train_data,\n",
    "    train_labels,\n",
    "    epochs=5,\n",
    "    batch_size=32,\n",
    "    validation_split=0.2\n",
    ")\n",
    "\n",
    "model.save(\"reviews.model\")"
   ]
  },
  {
   "cell_type": "code",
   "execution_count": 10,
   "metadata": {},
   "outputs": [
    {
     "name": "stdout",
     "output_type": "stream",
     "text": [
      "never seen anything worse than this\n",
      "1/1 [==============================] - 0s 41ms/step\n",
      "[[0.01792799]]\n",
      "Negative\n"
     ]
    }
   ],
   "source": [
    "sentence = input(\"Enter a movie review\")\n",
    "print(sentence)\n",
    "\n",
    "# tokenize the sentence\n",
    "tokened = word_tokenize(sentence)\n",
    "test = []\n",
    "\n",
    "# for each word in the sentence, get the corresponding index\n",
    "for word in tokened:\n",
    "    if (word not in word2index):\n",
    "      continue\n",
    "    if (word2index[word] > words):\n",
    "      continue\n",
    "    test.append(word2index[word] + 3)\n",
    "\n",
    "# pad sequences taking consideration of the max length\n",
    "test = keras.preprocessing.sequence.pad_sequences([test], maxlen=max_len) \n",
    "\n",
    "predicted = loaded_model.predict(test)\n",
    "print(predicted)\n",
    "\n",
    "if (predicted > 0.5):\n",
    "    print(\"Positive\")\n",
    "else:\n",
    "    print(\"Negative\")"
   ]
  }
 ],
 "metadata": {
  "kernelspec": {
   "display_name": "Python 3.10.5 64-bit",
   "language": "python",
   "name": "python3"
  },
  "language_info": {
   "codemirror_mode": {
    "name": "ipython",
    "version": 3
   },
   "file_extension": ".py",
   "mimetype": "text/x-python",
   "name": "python",
   "nbconvert_exporter": "python",
   "pygments_lexer": "ipython3",
   "version": "3.10.5"
  },
  "orig_nbformat": 4,
  "vscode": {
   "interpreter": {
    "hash": "f43cc61ecb9346674920bd0c80871174aab7f47f22ffcff9da1f54708c95c5a8"
   }
  }
 },
 "nbformat": 4,
 "nbformat_minor": 2
}
