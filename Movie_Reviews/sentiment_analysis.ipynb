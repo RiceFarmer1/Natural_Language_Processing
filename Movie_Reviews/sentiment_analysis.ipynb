{
 "cells": [
  {
   "cell_type": "code",
   "execution_count": 5,
   "metadata": {},
   "outputs": [
    {
     "name": "stderr",
     "output_type": "stream",
     "text": [
      "[nltk_data] Downloading package punkt to C:\\Users\\Oscar\n",
      "[nltk_data]     Pang\\AppData\\Roaming\\nltk_data...\n",
      "[nltk_data]   Package punkt is already up-to-date!\n"
     ]
    }
   ],
   "source": [
    "import tensorflow as tf\n",
    "from tensorflow import keras\n",
    "\n",
    "from keras.models import Sequential\n",
    "from keras.layers import Dense, Embedding, GlobalAveragePooling1D, LSTM\n",
    "from keras.preprocessing.sequence import pad_sequences\n",
    "\n",
    "import nltk\n",
    "from nltk import word_tokenize\n",
    "nltk.download('punkt')\n",
    "\n",
    "import numpy as np"
   ]
  },
  {
   "cell_type": "code",
   "execution_count": 6,
   "metadata": {},
   "outputs": [],
   "source": [
    "imdb = keras.datasets.imdb\n",
    "\n",
    "# load IMDB dataset as lists of integers\n",
    "words = 20000\n",
    "(train_data, train_labels), (test_data, test_labels) = imdb.load_data(num_words=words)"
   ]
  },
  {
   "cell_type": "code",
   "execution_count": 7,
   "metadata": {},
   "outputs": [],
   "source": [
    "# Cut texts after this number of words \n",
    "max_len = 100\n",
    "\n",
    "# pad the arrays so they all have the same length\n",
    "train_data = keras.preprocessing.sequence.pad_sequences(train_data, maxlen=max_len)\n",
    "test_data = keras.preprocessing.sequence.pad_sequences(test_data, maxlen=max_len)"
   ]
  },
  {
   "cell_type": "code",
   "execution_count": 9,
   "metadata": {},
   "outputs": [
    {
     "name": "stdout",
     "output_type": "stream",
     "text": [
      "Epoch 1/5\n",
      "400/400 [==============================] - 50s 111ms/step - loss: 0.4780 - acc: 0.7512 - val_loss: 0.3450 - val_acc: 0.8508\n",
      "Epoch 2/5\n",
      "400/400 [==============================] - 44s 109ms/step - loss: 0.2536 - acc: 0.9021 - val_loss: 0.3898 - val_acc: 0.8264\n",
      "Epoch 3/5\n",
      "400/400 [==============================] - 43s 108ms/step - loss: 0.1679 - acc: 0.9406 - val_loss: 0.3715 - val_acc: 0.8542\n",
      "Epoch 4/5\n",
      "400/400 [==============================] - 43s 109ms/step - loss: 0.1125 - acc: 0.9628 - val_loss: 0.5026 - val_acc: 0.8410\n",
      "Epoch 5/5\n",
      "400/400 [==============================] - 42s 105ms/step - loss: 0.0893 - acc: 0.9706 - val_loss: 0.6349 - val_acc: 0.8252\n"
     ]
    },
    {
     "data": {
      "text/plain": [
       "<keras.callbacks.History at 0x18d588211e0>"
      ]
     },
     "execution_count": 9,
     "metadata": {},
     "output_type": "execute_result"
    }
   ],
   "source": [
    "# Create a model\n",
    "embedding_dimension = 16\n",
    "model = Sequential()\n",
    "\n",
    "# The shape is: (samples, vocab_size, embedding_dimension)\n",
    "model.add(Embedding(words, embedding_dimension, input_length=max_len))\n",
    "\n",
    "# Add 2 bidirectional LSTMS\n",
    "model.add(keras.layers.Bidirectional(LSTM(10, return_sequences=True, dropout=0.2, recurrent_dropout=0.2)))\n",
    "model.add(keras.layers.Bidirectional(LSTM(10, dropout=0.2, recurrent_dropout=0.2)))\n",
    "\n",
    "# Add a classifier on top\n",
    "model.add(Dense(1, activation='sigmoid'))\n",
    "model.compile(optimizer='adam', loss='binary_crossentropy', metrics=['acc'])\n",
    "\n",
    "# Train the model\n",
    "model.fit(\n",
    "    train_data,\n",
    "    train_labels,\n",
    "    epochs=5,\n",
    "    batch_size=50,\n",
    "    validation_split=0.2\n",
    ")"
   ]
  },
  {
   "cell_type": "code",
   "execution_count": 11,
   "metadata": {},
   "outputs": [
    {
     "name": "stdout",
     "output_type": "stream",
     "text": [
      "1/1 [==============================] - 1s 756ms/step\n",
      "[[0.05290915]]\n"
     ]
    }
   ],
   "source": [
    "sentence = \"The movie was entertaining enough, but the elements themselves were horrible. Save your money. this was a disappointment and it is not looking good for the MCU.\"\n",
    "\n",
    "word2index = imdb.get_word_index()\n",
    "\n",
    "# tokenize the sentence\n",
    "tokened = word_tokenize(sentence)\n",
    "test = []\n",
    "\n",
    "# for each word in the sentence, get the corresponding index\n",
    "for word in tokened:\n",
    "    if (word not in word2index):\n",
    "      continue\n",
    "    if (word2index[word] > words):\n",
    "      continue\n",
    "    test.append(word2index[word] + 3)\n",
    "\n",
    "# pad sequences taking consideration of the max length\n",
    "test = keras.preprocessing.sequence.pad_sequences([test], maxlen=max_len) "
   ]
  },
  {
   "cell_type": "code",
   "execution_count": null,
   "metadata": {},
   "outputs": [],
   "source": [
    "if (model.predict(test) > 0.5):\n",
    "    print(\"Positive\")\n",
    "else:\n",
    "    print(\"Negative\")"
   ]
  }
 ],
 "metadata": {
  "kernelspec": {
   "display_name": "Python 3.10.5 64-bit",
   "language": "python",
   "name": "python3"
  },
  "language_info": {
   "codemirror_mode": {
    "name": "ipython",
    "version": 3
   },
   "file_extension": ".py",
   "mimetype": "text/x-python",
   "name": "python",
   "nbconvert_exporter": "python",
   "pygments_lexer": "ipython3",
   "version": "3.10.5"
  },
  "orig_nbformat": 4,
  "vscode": {
   "interpreter": {
    "hash": "f43cc61ecb9346674920bd0c80871174aab7f47f22ffcff9da1f54708c95c5a8"
   }
  }
 },
 "nbformat": 4,
 "nbformat_minor": 2
}
